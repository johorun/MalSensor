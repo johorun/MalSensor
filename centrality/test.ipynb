{
 "cells": [
  {
   "cell_type": "code",
   "execution_count": 1,
   "metadata": {},
   "outputs": [],
   "source": [
    "import pandas\n",
    "import pickle\n",
    "def load_data(filename):\n",
    "    print(\"开始读取数据于：\", filename)\n",
    "    f = open(filename, 'rb')\n",
    "    data = pickle.load(f)\n",
    "    f.close()\n",
    "    return data\n",
    "    \n",
    "def sava_data(filename, data):\n",
    "    print(\"saving data to:\", filename)\n",
    "    f = open(filename, 'wb')\n",
    "    pickle.dump(data, f)\n",
    "    f.close()"
   ]
  },
  {
   "cell_type": "code",
   "execution_count": 11,
   "metadata": {},
   "outputs": [
    {
     "name": "stdout",
     "output_type": "stream",
     "text": [
      "saving data to: /root/data/aigc/test/data/katz_multi_features/train.pkl\n",
      "saving data to: /root/data/aigc/test/data/katz_multi_features/test.pkl\n"
     ]
    }
   ],
   "source": [
    "import os\n",
    "import pandas as pd\n",
    "from collections import Counter\n",
    "data = pandas.read_csv(\"/root/data/aigc/test/data/katz_multi_features/katz_multi_features.csv\")\n",
    "dict = []\n",
    "for i in range(len(data)):\n",
    "    dict.append({\"name\":list(data.iloc[i])[0],\n",
    "                 \"vector\":list(data.iloc[i])[1:-1],\n",
    "                 \"label\":list(data.iloc[i])[-1]})\n",
    "df_all = pandas.DataFrame(dict)\n",
    "seed = 0\n",
    "df_dict = {}\n",
    "kfold_num = 10\n",
    "train_dict = {i:{} for i in range(kfold_num)}\n",
    "test_dict = {i:{} for i in range(kfold_num)}\n",
    "from sklearn.model_selection import KFold\n",
    "kf = KFold(n_splits = kfold_num, shuffle = True, random_state = seed)\n",
    "for i in Counter(df_all.label.values):\n",
    "    df_dict[i] = df_all[df_all.label == i]\n",
    "    for epoch, result in enumerate(kf.split(df_dict[i])):\n",
    "        train_dict[epoch][i]  = df_dict[i].iloc[result[0]]\n",
    "        test_dict[epoch][i] =  df_dict[i].iloc[result[1]] \n",
    "train_all = {i:pd.concat(train_dict[i], axis=0, ignore_index=True) for i in train_dict}\n",
    "test_all = {i:pd.concat(test_dict[i], axis=0, ignore_index=True) for i in test_dict}\n",
    "sava_data(\"/root/data/aigc/test/data/katz_multi_features/train.pkl\", train_all)\n",
    "sava_data(\"/root/data/aigc/test/data/katz_multi_features/test.pkl\", test_all)"
   ]
  },
  {
   "cell_type": "code",
   "execution_count": 12,
   "metadata": {},
   "outputs": [
    {
     "name": "stdout",
     "output_type": "stream",
     "text": [
      "开始读取数据于： /root/data/aigc/test/data/katz_multi_features/test.pkl\n"
     ]
    }
   ],
   "source": [
    "data = load_data(\"/root/data/aigc/test/data/katz_multi_features/test.pkl\")"
   ]
  },
  {
   "cell_type": "code",
   "execution_count": 16,
   "metadata": {},
   "outputs": [
    {
     "data": {
      "text/plain": [
       "5246"
      ]
     },
     "execution_count": 16,
     "metadata": {},
     "output_type": "execute_result"
    }
   ],
   "source": [
    "len(data[0].vector[0])"
   ]
  }
 ],
 "metadata": {
  "kernelspec": {
   "display_name": "vulbg_ast",
   "language": "python",
   "name": "python3"
  },
  "language_info": {
   "codemirror_mode": {
    "name": "ipython",
    "version": 3
   },
   "file_extension": ".py",
   "mimetype": "text/x-python",
   "name": "python",
   "nbconvert_exporter": "python",
   "pygments_lexer": "ipython3",
   "version": "3.8.13"
  },
  "orig_nbformat": 4,
  "vscode": {
   "interpreter": {
    "hash": "38cad728b82bdbda92db48a31af71decf1d6c48178eff91f7facbd27d2d499c4"
   }
  }
 },
 "nbformat": 4,
 "nbformat_minor": 2
}
